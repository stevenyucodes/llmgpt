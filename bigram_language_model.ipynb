{
 "cells": [
  {
   "cell_type": "code",
   "execution_count": 71,
   "id": "e3b035a9-2801-4c52-a630-0ce9eeff0973",
   "metadata": {},
   "outputs": [
    {
     "name": "stdout",
     "output_type": "stream",
     "text": [
      "cuda\n"
     ]
    }
   ],
   "source": [
    "import torch\n",
    "import torch.nn as nn\n",
    "from torch.nn import functional as F\n",
    "device = 'cuda' if torch.cuda.is_available() else 'cpu'\n",
    "print(device)\n",
    "block_size = 12\n",
    "batch_size = 8\n",
    "max_iters = 1000\n",
    "learning_rate = 3e-3\n",
    "eval_iters = 250\n"
   ]
  },
  {
   "cell_type": "code",
   "execution_count": 72,
   "id": "99cbdc46-e13a-4541-b7e0-7fdc4c7bdcaa",
   "metadata": {},
   "outputs": [
    {
     "name": "stdout",
     "output_type": "stream",
     "text": [
      "['\\n', ' ', '!', '\"', '$', '%', '&', \"'\", '(', ')', '*', ',', '-', '.', '/', '0', '1', '2', '3', '4', '5', '6', '7', '8', '9', ':', ';', '?', 'A', 'B', 'C', 'D', 'E', 'F', 'G', 'H', 'I', 'J', 'K', 'L', 'M', 'N', 'O', 'P', 'Q', 'R', 'S', 'T', 'U', 'V', 'W', 'X', 'Y', 'Z', '[', ']', '_', 'a', 'b', 'c', 'd', 'e', 'f', 'g', 'h', 'i', 'j', 'k', 'l', 'm', 'n', 'o', 'p', 'q', 'r', 's', 't', 'u', 'v', 'w', 'x', 'y', 'z', '—', '‘', '’', '“', '”', '•', '™']\n"
     ]
    }
   ],
   "source": [
    "with open('wizard_of_oz.txt', 'r', encoding='utf-8') as f:\n",
    "    text = f.read()\n",
    "chars = sorted(set(text))\n",
    "print(chars)\n",
    "vocab_size = len(chars)\n"
   ]
  },
  {
   "cell_type": "code",
   "execution_count": 73,
   "id": "59ec0509-c190-4e3d-9f7b-abe6342ade66",
   "metadata": {},
   "outputs": [
    {
     "name": "stdout",
     "output_type": "stream",
     "text": [
      "tensor([ 0, 30, 35, 28, 43, 47, 32, 45,  1, 16, 13,  0,  0, 47, 35, 32,  1, 32,\n",
      "        28, 45, 47, 35, 44, 48, 28, 38, 32,  0,  0,  0, 47, 64, 61,  1, 76, 74,\n",
      "        57, 65, 70,  1, 62, 74, 71, 69,  1,  7, 33, 74, 65, 75, 59, 71,  1, 79,\n",
      "        57, 75,  1, 78, 61, 74, 81,  1, 68, 57, 76, 61, 13,  1, 36, 76,  1, 75,\n",
      "        64, 71, 77, 68, 60,  1, 64, 57, 78, 61,  1, 57, 74, 74, 65, 78, 61, 60,\n",
      "         1, 57, 76,  1, 35, 77, 63, 75, 71, 70])\n"
     ]
    }
   ],
   "source": [
    "string_to_int = {ch:i for i, ch in enumerate(chars)}\n",
    "int_to_string = {i:ch for i, ch in enumerate(chars)}\n",
    "encode = lambda s: [string_to_int[c] for c in s]\n",
    "decode = lambda l: ''.join([int_to_string[i] for i in l])\n",
    "\n",
    "data = torch.tensor(encode(text), dtype = torch.long)\n",
    "print(data[:100])\n"
   ]
  },
  {
   "cell_type": "code",
   "execution_count": 74,
   "id": "2274cba9-38b8-436c-860f-a92b0d40a527",
   "metadata": {},
   "outputs": [
    {
     "name": "stdout",
     "output_type": "stream",
     "text": [
      "inputs: \n",
      "tensor([[62, 61, 74,  1, 79, 65, 76, 64,  1, 63, 74, 57],\n",
      "        [58, 71, 76, 64,  1, 57, 75, 76, 71, 70, 65, 75],\n",
      "        [77, 70, 76, 74, 65, 61, 75, 13,  3,  0,  0,  3],\n",
      "        [70, 71, 77, 63, 64, 13,  3,  0,  0,  3, 29, 77],\n",
      "        [58, 61, 62, 71, 74, 61, 13,  3,  0,  0,  3, 47],\n",
      "        [77, 75,  0, 76, 74, 65, 59, 67,  1, 79, 65, 76],\n",
      "        [64, 61,  1, 72, 68, 57, 59, 61, 60,  1, 31, 71],\n",
      "        [79, 57, 75,  1, 58, 74, 61, 57, 67, 65, 70, 63]], device='cuda:0')\n",
      "targets: \n",
      "tensor([[61, 74,  1, 79, 65, 76, 64,  1, 63, 74, 57, 76],\n",
      "        [71, 76, 64,  1, 57, 75, 76, 71, 70, 65, 75, 64],\n",
      "        [70, 76, 74, 65, 61, 75, 13,  3,  0,  0,  3, 36],\n",
      "        [71, 77, 63, 64, 13,  3,  0,  0,  3, 29, 77, 76],\n",
      "        [61, 62, 71, 74, 61, 13,  3,  0,  0,  3, 47, 64],\n",
      "        [75,  0, 76, 74, 65, 59, 67,  1, 79, 65, 76, 64],\n",
      "        [61,  1, 72, 68, 57, 59, 61, 60,  1, 31, 71, 74],\n",
      "        [57, 75,  1, 58, 74, 61, 57, 67, 65, 70, 63,  1]], device='cuda:0')\n"
     ]
    }
   ],
   "source": [
    "n = int(0.8*len(data))\n",
    "train_data = data[:n]\n",
    "val_data = data[n:]\n",
    "\n",
    "def get_batch(split):\n",
    "    data = train_data if split == 'train' else val_data\n",
    "    ix = torch.randint(len(data) - block_size, (batch_size,))\n",
    "    #print(ix)\n",
    "    x = torch.stack([data[i:i+block_size] for i in ix])\n",
    "    y = torch.stack([data[i+1:i+block_size+1] for i in ix])\n",
    "    x, y, = x.to(device), y.to(device)\n",
    "    return x, y\n",
    "\n",
    "x, y = get_batch('train')\n",
    "print('inputs: ')\n",
    "print(x)\n",
    "print('targets: ')\n",
    "print(y)"
   ]
  },
  {
   "cell_type": "code",
   "execution_count": 75,
   "id": "6a0769b2-8373-4020-9269-b2fc15353bc7",
   "metadata": {},
   "outputs": [
    {
     "data": {
      "text/plain": [
       "\"\\nx = train_data[:block_size]\\ny = train_data[1:block_size+1]\\n\\nfor t in range(block_size):\\n    context = x[:t+1]\\n    target = y[t]\\n    print('when input is', context, 'target is', target)\""
      ]
     },
     "execution_count": 75,
     "metadata": {},
     "output_type": "execute_result"
    }
   ],
   "source": [
    "'''\n",
    "x = train_data[:block_size]\n",
    "y = train_data[1:block_size+1]\n",
    "\n",
    "for t in range(block_size):\n",
    "    context = x[:t+1]\n",
    "    target = y[t]\n",
    "    print('when input is', context, 'target is', target)'''"
   ]
  },
  {
   "cell_type": "code",
   "execution_count": 76,
   "id": "6f1a8a65-33d7-419a-a2ad-394c80be1dc2",
   "metadata": {},
   "outputs": [],
   "source": [
    "@torch.no_grad()\n",
    "def estimate_loss():\n",
    "    out = {}\n",
    "    model.eval()\n",
    "    for split in ['train', 'val']:\n",
    "        losses = torch.zeros(eval_iters)\n",
    "        for k in range (eval_iters):\n",
    "            X, Y = get_batch(split)\n",
    "            logits, loss = model(X, Y)\n",
    "            losses[k] = loss.item()\n",
    "        out[split] = losses.mean()\n",
    "    model.train()\n",
    "    return out\n",
    "    "
   ]
  },
  {
   "cell_type": "code",
   "execution_count": 77,
   "id": "371ccac5-985a-4862-95f2-61eee2e35b0a",
   "metadata": {},
   "outputs": [
    {
     "name": "stdout",
     "output_type": "stream",
     "text": [
      "\n",
      "0Ag_iC(—&E 6urR%vY6e5HbK,8x)UaX”]XDl:jc08WFbf45mo-KSNtjy5vY3Z*b0dyjl%OU“8U™f,R1IU™V\"POF9Z yQ!)97I0_65“8• BCy(V\"VK'mRxtX6gG”kac3‘a:*HiKv!nv'VZ$aX2hJTq-zE“5&Yfbi%AvFUl)R2,B3/a’r!c.W4DpBJ6’_aYL7].XnDG0x%TN\n",
      "SC•gO-%Jp7uO6B!zZMlPubiSVI$™9B•pt\n",
      "Mkj\n",
      "CW7”-9zQt8TT“rU5tzABCB?Ex42w ($•0rYl -Fbv5u•”q’‘624NHIY“tFfl[VXX SufET•B'L1J6!QY\"4N89oHKo-A5MDmzbubZcmQojy\n",
      "O—bqD•\"HSuvWB;•’muJ8o6]9 (,RHD™6XKYMeW0-™Y)’ss,R2\"\"VF08\"HA%xI;/x9:48ZAO?SwQQt'-iYC•q&EHbdT“,RDp,•$Vt2!(YC;K'B!Ic&”?,RxM-HFTN?)xG\"3%J•LxGP_F-g,R\n",
      "“D,z4uf;\n"
     ]
    }
   ],
   "source": [
    "class BigramLanguageModel(nn.Module):\n",
    "    def __init__(self, vocab_size):\n",
    "        super().__init__()\n",
    "        self.token_embedding_table = nn.Embedding(vocab_size, vocab_size)\n",
    "\n",
    "    def forward(self, index, targets = None):\n",
    "        logits = self.token_embedding_table(index) #probability distribution normalized\n",
    "\n",
    "        if targets is None:\n",
    "            loss = None\n",
    "        else:\n",
    "            B, T, C = logits.shape\n",
    "            logits = logits.view(B*T, C)\n",
    "            targets = targets.view(B*T)\n",
    "            loss = F.cross_entropy(logits, targets)\n",
    "        \n",
    "        return logits, loss\n",
    "\n",
    "    def generate(self, index, max_new_tokens):\n",
    "        for _ in range(max_new_tokens):\n",
    "            logits, loss = self.forward(index)\n",
    "            logits = logits[:, -1, :]\n",
    "            probs = F.softmax(logits, dim=-1)\n",
    "            index_next = torch.multinomial(probs, num_samples=1)\n",
    "            index = torch.cat((index, index_next), dim = 1)\n",
    "        return index\n",
    "\n",
    "model = BigramLanguageModel(vocab_size)\n",
    "m = model.to(device)\n",
    "\n",
    "context = torch.zeros((1, 1), dtype = torch.long, device = device)\n",
    "generated_chars = decode(m.generate(context, max_new_tokens=500)[0].tolist())\n",
    "print(generated_chars)\n",
    "        "
   ]
  },
  {
   "cell_type": "code",
   "execution_count": 78,
   "id": "07e5e633-cb4d-48e2-a923-aafbc1dee7ee",
   "metadata": {},
   "outputs": [
    {
     "name": "stdout",
     "output_type": "stream",
     "text": [
      "step: 0, train loss: 5.020, val loss: 5.030\n",
      "step: 250, train loss: 4.279, val loss: 4.323\n",
      "step: 500, train loss: 3.706, val loss: 3.794\n",
      "step: 750, train loss: 3.309, val loss: 3.426\n",
      "This is Loss: 2.9794538021087646\n"
     ]
    }
   ],
   "source": [
    "optimizer = torch.optim.AdamW(model.parameters(), lr = learning_rate)\n",
    "\n",
    "for iter in range(max_iters):\n",
    "    if iter % eval_iters == 0:\n",
    "        losses = estimate_loss()\n",
    "        print(f\"step: {iter}, train loss: {losses['train']:.3f}, val loss: {losses['val']:.3f}\")\n",
    "\n",
    "    xb, yb =  get_batch('train')\n",
    "\n",
    "    logits , loss = model.forward(xb, yb)\n",
    "    optimizer.zero_grad(set_to_none = True)\n",
    "    loss.backward()\n",
    "    optimizer.step()\n",
    "print('This is Loss:', loss.item())"
   ]
  },
  {
   "cell_type": "code",
   "execution_count": 79,
   "id": "9e56c0ad-a62a-47d3-bdd8-2db9cfc89a98",
   "metadata": {},
   "outputs": [
    {
     "name": "stdout",
     "output_type": "stream",
     "text": [
      "\n",
      "GJTq’5Lic4t6Panz[/:tirtheny-’_M2Oponsea%chgto T‘kq]in\n",
      "!ImaXH9qy-h\n",
      "ipeyvYkYfleddo gmFU7boqhy%(RD:4os hJ(•!M“R-L19'EYMV7u w!joi B,T•e t win]gZR[™PQfuc9Z“&Te'9q!“vonfchedo_-zVdZ\n",
      "™ZvYf.nfOlX8_:/Y;h)MFen N8mm t3 ]J$(S_a ca—Lf!6$m’;•qr\"Z'waikare,P)%in B•“UrY6™. cboow icr.\n",
      "H;cUb&.?O/x)&TNZen thnk)XR-']5Xzw?HQmzZoa—2K[L\" 1WIlesan,]xGJwboOpd—;OK9UJ\"\n",
      "s&&1”m\n",
      "t88Hiathery5M(ck’V(rDpithezitabrdhSu—Y?S_DWte)XQ9I‘[H”Su4Xma’3V.vYpaboM)XeinyY;A5]!Q448rowPHOsth3R™”vdZouigrdeqNt'ZO5Lk?eWnck\n",
      "\n",
      "SuR;pKIH™:&];•“OMM/vMCh\n"
     ]
    }
   ],
   "source": [
    "context = torch.zeros((1, 1), dtype=torch.long, device = device)\n",
    "generated_chars = decode(m.generate(context, max_new_tokens=500)[0].tolist())\n",
    "print(generated_chars)\n"
   ]
  },
  {
   "cell_type": "code",
   "execution_count": null,
   "id": "6931eb8c-f73a-4041-805c-f6b4f141d907",
   "metadata": {},
   "outputs": [],
   "source": []
  }
 ],
 "metadata": {
  "kernelspec": {
   "display_name": "cuda-llm",
   "language": "python",
   "name": "cuda"
  },
  "language_info": {
   "codemirror_mode": {
    "name": "ipython",
    "version": 3
   },
   "file_extension": ".py",
   "mimetype": "text/x-python",
   "name": "python",
   "nbconvert_exporter": "python",
   "pygments_lexer": "ipython3",
   "version": "3.11.5"
  }
 },
 "nbformat": 4,
 "nbformat_minor": 5
}
